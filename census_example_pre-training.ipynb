{
 "cells": [
  {
   "cell_type": "code",
   "execution_count": 71,
   "source": [
    "from pytorch_tabnet.tab_model import TabNetClassifier\n",
    "from pytorch_tabnet.pretraining import TabNetPretrainer\n",
    "\n",
    "import torch\n",
    "from sklearn.preprocessing import LabelEncoder\n",
    "from sklearn.metrics import roc_auc_score\n",
    "\n",
    "import pandas as pd\n",
    "import numpy as np\n",
    "np.random.seed(0)\n",
    "\n",
    "\n",
    "import os\n",
    "import wget\n",
    "from pathlib import Path\n",
    "\n",
    "from matplotlib import pyplot as plt\n",
    "%matplotlib inline"
   ],
   "outputs": [],
   "metadata": {}
  },
  {
   "cell_type": "markdown",
   "source": [
    "# 国勢調査-収入データセットをダウンロードする"
   ],
   "metadata": {}
  },
  {
   "cell_type": "code",
   "execution_count": 72,
   "source": [
    "url = \"https://archive.ics.uci.edu/ml/machine-learning-databases/adult/adult.data\"\n",
    "dataset_name = 'census-income'\n",
    "out = Path(os.getcwd()+'/data/'+dataset_name+'.csv')"
   ],
   "outputs": [],
   "metadata": {}
  },
  {
   "cell_type": "code",
   "execution_count": 73,
   "source": [
    "out.parent.mkdir(parents=True, exist_ok=True)\n",
    "if out.exists():\n",
    "    print(\"File already exists.\")\n",
    "else:\n",
    "    print(\"Downloading file...\")\n",
    "    wget.download(url, out.as_posix())"
   ],
   "outputs": [
    {
     "output_type": "stream",
     "name": "stdout",
     "text": [
      "File already exists.\n"
     ]
    }
   ],
   "metadata": {}
  },
  {
   "cell_type": "markdown",
   "source": [
    "# データをロードして分割する"
   ],
   "metadata": {}
  },
  {
   "cell_type": "code",
   "execution_count": 74,
   "source": [
    "train = pd.read_csv(out)\n",
    "target = 'income'\n",
    "if 'Set' not in train.columns:\n",
    "    train['Set'] = np.random.choice(['train', 'valid', 'test'], p=[.8, .1, .1], size=(train.shape[0],))\n",
    "train_indices = train[train.Set=='train'].index\n",
    "valid_indices = train[train.Set=='valid'].index\n",
    "test_indices = train[train.Set=='test'].index"
   ],
   "outputs": [],
   "metadata": {}
  },
  {
   "cell_type": "code",
   "execution_count": 75,
   "source": [
    "train[train.Set=='train']"
   ],
   "outputs": [
    {
     "output_type": "execute_result",
     "data": {
      "text/plain": [
       "       age          workclass  fnlwgt      education  education.num  \\\n",
       "0       39          State-gov   77516      Bachelors             13   \n",
       "1       50   Self-emp-not-inc   83311      Bachelors             13   \n",
       "2       38            Private  215646        HS-grad              9   \n",
       "3       53            Private  234721           11th              7   \n",
       "4       28            Private  338409      Bachelors             13   \n",
       "...    ...                ...     ...            ...            ...   \n",
       "32554   53            Private  321865        Masters             14   \n",
       "32555   22            Private  310152   Some-college             10   \n",
       "32557   40            Private  154374        HS-grad              9   \n",
       "32558   58            Private  151910        HS-grad              9   \n",
       "32559   22            Private  201490        HS-grad              9   \n",
       "\n",
       "            marital.status          occupation    relationship    race  \\\n",
       "0            Never-married        Adm-clerical   Not-in-family   White   \n",
       "1       Married-civ-spouse     Exec-managerial         Husband   White   \n",
       "2                 Divorced   Handlers-cleaners   Not-in-family   White   \n",
       "3       Married-civ-spouse   Handlers-cleaners         Husband   Black   \n",
       "4       Married-civ-spouse      Prof-specialty            Wife   Black   \n",
       "...                    ...                 ...             ...     ...   \n",
       "32554   Married-civ-spouse     Exec-managerial         Husband   White   \n",
       "32555        Never-married     Protective-serv   Not-in-family   White   \n",
       "32557   Married-civ-spouse   Machine-op-inspct         Husband   White   \n",
       "32558              Widowed        Adm-clerical       Unmarried   White   \n",
       "32559        Never-married        Adm-clerical       Own-child   White   \n",
       "\n",
       "           sex  capital.gain  capital.loss  hours.per.week  native.country  \\\n",
       "0         Male          2174             0              40   United-States   \n",
       "1         Male             0             0              13   United-States   \n",
       "2         Male             0             0              40   United-States   \n",
       "3         Male             0             0              40   United-States   \n",
       "4       Female             0             0              40            Cuba   \n",
       "...        ...           ...           ...             ...             ...   \n",
       "32554     Male             0             0              40   United-States   \n",
       "32555     Male             0             0              40   United-States   \n",
       "32557     Male             0             0              40   United-States   \n",
       "32558   Female             0             0              40   United-States   \n",
       "32559     Male             0             0              20   United-States   \n",
       "\n",
       "       income    Set  \n",
       "0       <=50K  train  \n",
       "1       <=50K  train  \n",
       "2       <=50K  train  \n",
       "3       <=50K  train  \n",
       "4       <=50K  train  \n",
       "...       ...    ...  \n",
       "32554    >50K  train  \n",
       "32555   <=50K  train  \n",
       "32557    >50K  train  \n",
       "32558   <=50K  train  \n",
       "32559   <=50K  train  \n",
       "\n",
       "[26072 rows x 16 columns]"
      ],
      "text/html": [
       "<div>\n",
       "<style scoped>\n",
       "    .dataframe tbody tr th:only-of-type {\n",
       "        vertical-align: middle;\n",
       "    }\n",
       "\n",
       "    .dataframe tbody tr th {\n",
       "        vertical-align: top;\n",
       "    }\n",
       "\n",
       "    .dataframe thead th {\n",
       "        text-align: right;\n",
       "    }\n",
       "</style>\n",
       "<table border=\"1\" class=\"dataframe\">\n",
       "  <thead>\n",
       "    <tr style=\"text-align: right;\">\n",
       "      <th></th>\n",
       "      <th>age</th>\n",
       "      <th>workclass</th>\n",
       "      <th>fnlwgt</th>\n",
       "      <th>education</th>\n",
       "      <th>education.num</th>\n",
       "      <th>marital.status</th>\n",
       "      <th>occupation</th>\n",
       "      <th>relationship</th>\n",
       "      <th>race</th>\n",
       "      <th>sex</th>\n",
       "      <th>capital.gain</th>\n",
       "      <th>capital.loss</th>\n",
       "      <th>hours.per.week</th>\n",
       "      <th>native.country</th>\n",
       "      <th>income</th>\n",
       "      <th>Set</th>\n",
       "    </tr>\n",
       "  </thead>\n",
       "  <tbody>\n",
       "    <tr>\n",
       "      <th>0</th>\n",
       "      <td>39</td>\n",
       "      <td>State-gov</td>\n",
       "      <td>77516</td>\n",
       "      <td>Bachelors</td>\n",
       "      <td>13</td>\n",
       "      <td>Never-married</td>\n",
       "      <td>Adm-clerical</td>\n",
       "      <td>Not-in-family</td>\n",
       "      <td>White</td>\n",
       "      <td>Male</td>\n",
       "      <td>2174</td>\n",
       "      <td>0</td>\n",
       "      <td>40</td>\n",
       "      <td>United-States</td>\n",
       "      <td>&lt;=50K</td>\n",
       "      <td>train</td>\n",
       "    </tr>\n",
       "    <tr>\n",
       "      <th>1</th>\n",
       "      <td>50</td>\n",
       "      <td>Self-emp-not-inc</td>\n",
       "      <td>83311</td>\n",
       "      <td>Bachelors</td>\n",
       "      <td>13</td>\n",
       "      <td>Married-civ-spouse</td>\n",
       "      <td>Exec-managerial</td>\n",
       "      <td>Husband</td>\n",
       "      <td>White</td>\n",
       "      <td>Male</td>\n",
       "      <td>0</td>\n",
       "      <td>0</td>\n",
       "      <td>13</td>\n",
       "      <td>United-States</td>\n",
       "      <td>&lt;=50K</td>\n",
       "      <td>train</td>\n",
       "    </tr>\n",
       "    <tr>\n",
       "      <th>2</th>\n",
       "      <td>38</td>\n",
       "      <td>Private</td>\n",
       "      <td>215646</td>\n",
       "      <td>HS-grad</td>\n",
       "      <td>9</td>\n",
       "      <td>Divorced</td>\n",
       "      <td>Handlers-cleaners</td>\n",
       "      <td>Not-in-family</td>\n",
       "      <td>White</td>\n",
       "      <td>Male</td>\n",
       "      <td>0</td>\n",
       "      <td>0</td>\n",
       "      <td>40</td>\n",
       "      <td>United-States</td>\n",
       "      <td>&lt;=50K</td>\n",
       "      <td>train</td>\n",
       "    </tr>\n",
       "    <tr>\n",
       "      <th>3</th>\n",
       "      <td>53</td>\n",
       "      <td>Private</td>\n",
       "      <td>234721</td>\n",
       "      <td>11th</td>\n",
       "      <td>7</td>\n",
       "      <td>Married-civ-spouse</td>\n",
       "      <td>Handlers-cleaners</td>\n",
       "      <td>Husband</td>\n",
       "      <td>Black</td>\n",
       "      <td>Male</td>\n",
       "      <td>0</td>\n",
       "      <td>0</td>\n",
       "      <td>40</td>\n",
       "      <td>United-States</td>\n",
       "      <td>&lt;=50K</td>\n",
       "      <td>train</td>\n",
       "    </tr>\n",
       "    <tr>\n",
       "      <th>4</th>\n",
       "      <td>28</td>\n",
       "      <td>Private</td>\n",
       "      <td>338409</td>\n",
       "      <td>Bachelors</td>\n",
       "      <td>13</td>\n",
       "      <td>Married-civ-spouse</td>\n",
       "      <td>Prof-specialty</td>\n",
       "      <td>Wife</td>\n",
       "      <td>Black</td>\n",
       "      <td>Female</td>\n",
       "      <td>0</td>\n",
       "      <td>0</td>\n",
       "      <td>40</td>\n",
       "      <td>Cuba</td>\n",
       "      <td>&lt;=50K</td>\n",
       "      <td>train</td>\n",
       "    </tr>\n",
       "    <tr>\n",
       "      <th>...</th>\n",
       "      <td>...</td>\n",
       "      <td>...</td>\n",
       "      <td>...</td>\n",
       "      <td>...</td>\n",
       "      <td>...</td>\n",
       "      <td>...</td>\n",
       "      <td>...</td>\n",
       "      <td>...</td>\n",
       "      <td>...</td>\n",
       "      <td>...</td>\n",
       "      <td>...</td>\n",
       "      <td>...</td>\n",
       "      <td>...</td>\n",
       "      <td>...</td>\n",
       "      <td>...</td>\n",
       "      <td>...</td>\n",
       "    </tr>\n",
       "    <tr>\n",
       "      <th>32554</th>\n",
       "      <td>53</td>\n",
       "      <td>Private</td>\n",
       "      <td>321865</td>\n",
       "      <td>Masters</td>\n",
       "      <td>14</td>\n",
       "      <td>Married-civ-spouse</td>\n",
       "      <td>Exec-managerial</td>\n",
       "      <td>Husband</td>\n",
       "      <td>White</td>\n",
       "      <td>Male</td>\n",
       "      <td>0</td>\n",
       "      <td>0</td>\n",
       "      <td>40</td>\n",
       "      <td>United-States</td>\n",
       "      <td>&gt;50K</td>\n",
       "      <td>train</td>\n",
       "    </tr>\n",
       "    <tr>\n",
       "      <th>32555</th>\n",
       "      <td>22</td>\n",
       "      <td>Private</td>\n",
       "      <td>310152</td>\n",
       "      <td>Some-college</td>\n",
       "      <td>10</td>\n",
       "      <td>Never-married</td>\n",
       "      <td>Protective-serv</td>\n",
       "      <td>Not-in-family</td>\n",
       "      <td>White</td>\n",
       "      <td>Male</td>\n",
       "      <td>0</td>\n",
       "      <td>0</td>\n",
       "      <td>40</td>\n",
       "      <td>United-States</td>\n",
       "      <td>&lt;=50K</td>\n",
       "      <td>train</td>\n",
       "    </tr>\n",
       "    <tr>\n",
       "      <th>32557</th>\n",
       "      <td>40</td>\n",
       "      <td>Private</td>\n",
       "      <td>154374</td>\n",
       "      <td>HS-grad</td>\n",
       "      <td>9</td>\n",
       "      <td>Married-civ-spouse</td>\n",
       "      <td>Machine-op-inspct</td>\n",
       "      <td>Husband</td>\n",
       "      <td>White</td>\n",
       "      <td>Male</td>\n",
       "      <td>0</td>\n",
       "      <td>0</td>\n",
       "      <td>40</td>\n",
       "      <td>United-States</td>\n",
       "      <td>&gt;50K</td>\n",
       "      <td>train</td>\n",
       "    </tr>\n",
       "    <tr>\n",
       "      <th>32558</th>\n",
       "      <td>58</td>\n",
       "      <td>Private</td>\n",
       "      <td>151910</td>\n",
       "      <td>HS-grad</td>\n",
       "      <td>9</td>\n",
       "      <td>Widowed</td>\n",
       "      <td>Adm-clerical</td>\n",
       "      <td>Unmarried</td>\n",
       "      <td>White</td>\n",
       "      <td>Female</td>\n",
       "      <td>0</td>\n",
       "      <td>0</td>\n",
       "      <td>40</td>\n",
       "      <td>United-States</td>\n",
       "      <td>&lt;=50K</td>\n",
       "      <td>train</td>\n",
       "    </tr>\n",
       "    <tr>\n",
       "      <th>32559</th>\n",
       "      <td>22</td>\n",
       "      <td>Private</td>\n",
       "      <td>201490</td>\n",
       "      <td>HS-grad</td>\n",
       "      <td>9</td>\n",
       "      <td>Never-married</td>\n",
       "      <td>Adm-clerical</td>\n",
       "      <td>Own-child</td>\n",
       "      <td>White</td>\n",
       "      <td>Male</td>\n",
       "      <td>0</td>\n",
       "      <td>0</td>\n",
       "      <td>20</td>\n",
       "      <td>United-States</td>\n",
       "      <td>&lt;=50K</td>\n",
       "      <td>train</td>\n",
       "    </tr>\n",
       "  </tbody>\n",
       "</table>\n",
       "<p>26072 rows × 16 columns</p>\n",
       "</div>"
      ]
     },
     "metadata": {},
     "execution_count": 75
    }
   ],
   "metadata": {}
  },
  {
   "cell_type": "code",
   "execution_count": 76,
   "source": [
    "train[train.Set=='valid']"
   ],
   "outputs": [
    {
     "output_type": "execute_result",
     "data": {
      "text/plain": [
       "       age          workclass  fnlwgt      education  education.num  \\\n",
       "7       52   Self-emp-not-inc  209642        HS-grad              9   \n",
       "17      32            Private  186824        HS-grad              9   \n",
       "19      43   Self-emp-not-inc  292175        Masters             14   \n",
       "66      28            Private  183175   Some-college             10   \n",
       "68      49       Self-emp-inc  191681   Some-college             10   \n",
       "...    ...                ...     ...            ...            ...   \n",
       "32536   34            Private  160216      Bachelors             13   \n",
       "32540   45          State-gov  252208        HS-grad              9   \n",
       "32542   72                  ?  129912        HS-grad              9   \n",
       "32548   65   Self-emp-not-inc   99359    Prof-school             15   \n",
       "32556   27            Private  257302     Assoc-acdm             12   \n",
       "\n",
       "            marital.status          occupation    relationship    race  \\\n",
       "7       Married-civ-spouse     Exec-managerial         Husband   White   \n",
       "17           Never-married   Machine-op-inspct       Unmarried   White   \n",
       "19                Divorced     Exec-managerial       Unmarried   White   \n",
       "66                Divorced        Adm-clerical   Not-in-family   White   \n",
       "68      Married-civ-spouse     Exec-managerial         Husband   White   \n",
       "...                    ...                 ...             ...     ...   \n",
       "32536        Never-married     Exec-managerial   Not-in-family   White   \n",
       "32540            Separated        Adm-clerical       Own-child   White   \n",
       "32542   Married-civ-spouse                   ?         Husband   White   \n",
       "32548        Never-married      Prof-specialty   Not-in-family   White   \n",
       "32556   Married-civ-spouse        Tech-support            Wife   White   \n",
       "\n",
       "           sex  capital.gain  capital.loss  hours.per.week  native.country  \\\n",
       "7         Male             0             0              45   United-States   \n",
       "17        Male             0             0              40   United-States   \n",
       "19      Female             0             0              45   United-States   \n",
       "66      Female             0             0              40   United-States   \n",
       "68        Male             0             0              50   United-States   \n",
       "...        ...           ...           ...             ...             ...   \n",
       "32536   Female             0             0              55   United-States   \n",
       "32540   Female             0             0              40   United-States   \n",
       "32542     Male             0             0              25   United-States   \n",
       "32548     Male          1086             0              60   United-States   \n",
       "32556   Female             0             0              38   United-States   \n",
       "\n",
       "       income    Set  \n",
       "7        >50K  valid  \n",
       "17      <=50K  valid  \n",
       "19       >50K  valid  \n",
       "66      <=50K  valid  \n",
       "68       >50K  valid  \n",
       "...       ...    ...  \n",
       "32536    >50K  valid  \n",
       "32540   <=50K  valid  \n",
       "32542   <=50K  valid  \n",
       "32548   <=50K  valid  \n",
       "32556   <=50K  valid  \n",
       "\n",
       "[3221 rows x 16 columns]"
      ],
      "text/html": [
       "<div>\n",
       "<style scoped>\n",
       "    .dataframe tbody tr th:only-of-type {\n",
       "        vertical-align: middle;\n",
       "    }\n",
       "\n",
       "    .dataframe tbody tr th {\n",
       "        vertical-align: top;\n",
       "    }\n",
       "\n",
       "    .dataframe thead th {\n",
       "        text-align: right;\n",
       "    }\n",
       "</style>\n",
       "<table border=\"1\" class=\"dataframe\">\n",
       "  <thead>\n",
       "    <tr style=\"text-align: right;\">\n",
       "      <th></th>\n",
       "      <th>age</th>\n",
       "      <th>workclass</th>\n",
       "      <th>fnlwgt</th>\n",
       "      <th>education</th>\n",
       "      <th>education.num</th>\n",
       "      <th>marital.status</th>\n",
       "      <th>occupation</th>\n",
       "      <th>relationship</th>\n",
       "      <th>race</th>\n",
       "      <th>sex</th>\n",
       "      <th>capital.gain</th>\n",
       "      <th>capital.loss</th>\n",
       "      <th>hours.per.week</th>\n",
       "      <th>native.country</th>\n",
       "      <th>income</th>\n",
       "      <th>Set</th>\n",
       "    </tr>\n",
       "  </thead>\n",
       "  <tbody>\n",
       "    <tr>\n",
       "      <th>7</th>\n",
       "      <td>52</td>\n",
       "      <td>Self-emp-not-inc</td>\n",
       "      <td>209642</td>\n",
       "      <td>HS-grad</td>\n",
       "      <td>9</td>\n",
       "      <td>Married-civ-spouse</td>\n",
       "      <td>Exec-managerial</td>\n",
       "      <td>Husband</td>\n",
       "      <td>White</td>\n",
       "      <td>Male</td>\n",
       "      <td>0</td>\n",
       "      <td>0</td>\n",
       "      <td>45</td>\n",
       "      <td>United-States</td>\n",
       "      <td>&gt;50K</td>\n",
       "      <td>valid</td>\n",
       "    </tr>\n",
       "    <tr>\n",
       "      <th>17</th>\n",
       "      <td>32</td>\n",
       "      <td>Private</td>\n",
       "      <td>186824</td>\n",
       "      <td>HS-grad</td>\n",
       "      <td>9</td>\n",
       "      <td>Never-married</td>\n",
       "      <td>Machine-op-inspct</td>\n",
       "      <td>Unmarried</td>\n",
       "      <td>White</td>\n",
       "      <td>Male</td>\n",
       "      <td>0</td>\n",
       "      <td>0</td>\n",
       "      <td>40</td>\n",
       "      <td>United-States</td>\n",
       "      <td>&lt;=50K</td>\n",
       "      <td>valid</td>\n",
       "    </tr>\n",
       "    <tr>\n",
       "      <th>19</th>\n",
       "      <td>43</td>\n",
       "      <td>Self-emp-not-inc</td>\n",
       "      <td>292175</td>\n",
       "      <td>Masters</td>\n",
       "      <td>14</td>\n",
       "      <td>Divorced</td>\n",
       "      <td>Exec-managerial</td>\n",
       "      <td>Unmarried</td>\n",
       "      <td>White</td>\n",
       "      <td>Female</td>\n",
       "      <td>0</td>\n",
       "      <td>0</td>\n",
       "      <td>45</td>\n",
       "      <td>United-States</td>\n",
       "      <td>&gt;50K</td>\n",
       "      <td>valid</td>\n",
       "    </tr>\n",
       "    <tr>\n",
       "      <th>66</th>\n",
       "      <td>28</td>\n",
       "      <td>Private</td>\n",
       "      <td>183175</td>\n",
       "      <td>Some-college</td>\n",
       "      <td>10</td>\n",
       "      <td>Divorced</td>\n",
       "      <td>Adm-clerical</td>\n",
       "      <td>Not-in-family</td>\n",
       "      <td>White</td>\n",
       "      <td>Female</td>\n",
       "      <td>0</td>\n",
       "      <td>0</td>\n",
       "      <td>40</td>\n",
       "      <td>United-States</td>\n",
       "      <td>&lt;=50K</td>\n",
       "      <td>valid</td>\n",
       "    </tr>\n",
       "    <tr>\n",
       "      <th>68</th>\n",
       "      <td>49</td>\n",
       "      <td>Self-emp-inc</td>\n",
       "      <td>191681</td>\n",
       "      <td>Some-college</td>\n",
       "      <td>10</td>\n",
       "      <td>Married-civ-spouse</td>\n",
       "      <td>Exec-managerial</td>\n",
       "      <td>Husband</td>\n",
       "      <td>White</td>\n",
       "      <td>Male</td>\n",
       "      <td>0</td>\n",
       "      <td>0</td>\n",
       "      <td>50</td>\n",
       "      <td>United-States</td>\n",
       "      <td>&gt;50K</td>\n",
       "      <td>valid</td>\n",
       "    </tr>\n",
       "    <tr>\n",
       "      <th>...</th>\n",
       "      <td>...</td>\n",
       "      <td>...</td>\n",
       "      <td>...</td>\n",
       "      <td>...</td>\n",
       "      <td>...</td>\n",
       "      <td>...</td>\n",
       "      <td>...</td>\n",
       "      <td>...</td>\n",
       "      <td>...</td>\n",
       "      <td>...</td>\n",
       "      <td>...</td>\n",
       "      <td>...</td>\n",
       "      <td>...</td>\n",
       "      <td>...</td>\n",
       "      <td>...</td>\n",
       "      <td>...</td>\n",
       "    </tr>\n",
       "    <tr>\n",
       "      <th>32536</th>\n",
       "      <td>34</td>\n",
       "      <td>Private</td>\n",
       "      <td>160216</td>\n",
       "      <td>Bachelors</td>\n",
       "      <td>13</td>\n",
       "      <td>Never-married</td>\n",
       "      <td>Exec-managerial</td>\n",
       "      <td>Not-in-family</td>\n",
       "      <td>White</td>\n",
       "      <td>Female</td>\n",
       "      <td>0</td>\n",
       "      <td>0</td>\n",
       "      <td>55</td>\n",
       "      <td>United-States</td>\n",
       "      <td>&gt;50K</td>\n",
       "      <td>valid</td>\n",
       "    </tr>\n",
       "    <tr>\n",
       "      <th>32540</th>\n",
       "      <td>45</td>\n",
       "      <td>State-gov</td>\n",
       "      <td>252208</td>\n",
       "      <td>HS-grad</td>\n",
       "      <td>9</td>\n",
       "      <td>Separated</td>\n",
       "      <td>Adm-clerical</td>\n",
       "      <td>Own-child</td>\n",
       "      <td>White</td>\n",
       "      <td>Female</td>\n",
       "      <td>0</td>\n",
       "      <td>0</td>\n",
       "      <td>40</td>\n",
       "      <td>United-States</td>\n",
       "      <td>&lt;=50K</td>\n",
       "      <td>valid</td>\n",
       "    </tr>\n",
       "    <tr>\n",
       "      <th>32542</th>\n",
       "      <td>72</td>\n",
       "      <td>?</td>\n",
       "      <td>129912</td>\n",
       "      <td>HS-grad</td>\n",
       "      <td>9</td>\n",
       "      <td>Married-civ-spouse</td>\n",
       "      <td>?</td>\n",
       "      <td>Husband</td>\n",
       "      <td>White</td>\n",
       "      <td>Male</td>\n",
       "      <td>0</td>\n",
       "      <td>0</td>\n",
       "      <td>25</td>\n",
       "      <td>United-States</td>\n",
       "      <td>&lt;=50K</td>\n",
       "      <td>valid</td>\n",
       "    </tr>\n",
       "    <tr>\n",
       "      <th>32548</th>\n",
       "      <td>65</td>\n",
       "      <td>Self-emp-not-inc</td>\n",
       "      <td>99359</td>\n",
       "      <td>Prof-school</td>\n",
       "      <td>15</td>\n",
       "      <td>Never-married</td>\n",
       "      <td>Prof-specialty</td>\n",
       "      <td>Not-in-family</td>\n",
       "      <td>White</td>\n",
       "      <td>Male</td>\n",
       "      <td>1086</td>\n",
       "      <td>0</td>\n",
       "      <td>60</td>\n",
       "      <td>United-States</td>\n",
       "      <td>&lt;=50K</td>\n",
       "      <td>valid</td>\n",
       "    </tr>\n",
       "    <tr>\n",
       "      <th>32556</th>\n",
       "      <td>27</td>\n",
       "      <td>Private</td>\n",
       "      <td>257302</td>\n",
       "      <td>Assoc-acdm</td>\n",
       "      <td>12</td>\n",
       "      <td>Married-civ-spouse</td>\n",
       "      <td>Tech-support</td>\n",
       "      <td>Wife</td>\n",
       "      <td>White</td>\n",
       "      <td>Female</td>\n",
       "      <td>0</td>\n",
       "      <td>0</td>\n",
       "      <td>38</td>\n",
       "      <td>United-States</td>\n",
       "      <td>&lt;=50K</td>\n",
       "      <td>valid</td>\n",
       "    </tr>\n",
       "  </tbody>\n",
       "</table>\n",
       "<p>3221 rows × 16 columns</p>\n",
       "</div>"
      ]
     },
     "metadata": {},
     "execution_count": 76
    }
   ],
   "metadata": {}
  },
  {
   "cell_type": "code",
   "execution_count": 77,
   "source": [
    "train[train.Set=='test']"
   ],
   "outputs": [
    {
     "output_type": "execute_result",
     "data": {
      "text/plain": [
       "       age      workclass  fnlwgt      education  education.num  \\\n",
       "8       31        Private   45781        Masters             14   \n",
       "13      32        Private  205019     Assoc-acdm             12   \n",
       "20      40        Private  193524      Doctorate             16   \n",
       "27      54              ?  180211   Some-college             10   \n",
       "38      31        Private   84154   Some-college             10   \n",
       "...    ...            ...     ...            ...            ...   \n",
       "32516   30        Private  176175      Assoc-voc             11   \n",
       "32537   30        Private  345898        HS-grad              9   \n",
       "32546   37        Private  198216     Assoc-acdm             12   \n",
       "32552   43        Private   84661      Assoc-voc             11   \n",
       "32560   52   Self-emp-inc  287927        HS-grad              9   \n",
       "\n",
       "            marital.status        occupation    relationship  \\\n",
       "8            Never-married    Prof-specialty   Not-in-family   \n",
       "13           Never-married             Sales   Not-in-family   \n",
       "20      Married-civ-spouse    Prof-specialty         Husband   \n",
       "27      Married-civ-spouse                 ?         Husband   \n",
       "38      Married-civ-spouse             Sales         Husband   \n",
       "...                    ...               ...             ...   \n",
       "32516             Divorced      Adm-clerical       Unmarried   \n",
       "32537        Never-married      Craft-repair   Not-in-family   \n",
       "32546             Divorced      Tech-support   Not-in-family   \n",
       "32552   Married-civ-spouse             Sales         Husband   \n",
       "32560   Married-civ-spouse   Exec-managerial            Wife   \n",
       "\n",
       "                      race      sex  capital.gain  capital.loss  \\\n",
       "8                    White   Female         14084             0   \n",
       "13                   Black     Male             0             0   \n",
       "20                   White     Male             0             0   \n",
       "27      Asian-Pac-Islander     Male             0             0   \n",
       "38                   White     Male             0             0   \n",
       "...                    ...      ...           ...           ...   \n",
       "32516                White   Female             0             0   \n",
       "32537                Black     Male             0             0   \n",
       "32546                White   Female             0             0   \n",
       "32552                White     Male             0             0   \n",
       "32560                White   Female         15024             0   \n",
       "\n",
       "       hours.per.week  native.country  income   Set  \n",
       "8                  50   United-States    >50K  test  \n",
       "13                 50   United-States   <=50K  test  \n",
       "20                 60   United-States    >50K  test  \n",
       "27                 60           South    >50K  test  \n",
       "38                 38               ?    >50K  test  \n",
       "...               ...             ...     ...   ...  \n",
       "32516              24   United-States   <=50K  test  \n",
       "32537              46   United-States   <=50K  test  \n",
       "32546              40   United-States   <=50K  test  \n",
       "32552              45   United-States   <=50K  test  \n",
       "32560              40   United-States    >50K  test  \n",
       "\n",
       "[3268 rows x 16 columns]"
      ],
      "text/html": [
       "<div>\n",
       "<style scoped>\n",
       "    .dataframe tbody tr th:only-of-type {\n",
       "        vertical-align: middle;\n",
       "    }\n",
       "\n",
       "    .dataframe tbody tr th {\n",
       "        vertical-align: top;\n",
       "    }\n",
       "\n",
       "    .dataframe thead th {\n",
       "        text-align: right;\n",
       "    }\n",
       "</style>\n",
       "<table border=\"1\" class=\"dataframe\">\n",
       "  <thead>\n",
       "    <tr style=\"text-align: right;\">\n",
       "      <th></th>\n",
       "      <th>age</th>\n",
       "      <th>workclass</th>\n",
       "      <th>fnlwgt</th>\n",
       "      <th>education</th>\n",
       "      <th>education.num</th>\n",
       "      <th>marital.status</th>\n",
       "      <th>occupation</th>\n",
       "      <th>relationship</th>\n",
       "      <th>race</th>\n",
       "      <th>sex</th>\n",
       "      <th>capital.gain</th>\n",
       "      <th>capital.loss</th>\n",
       "      <th>hours.per.week</th>\n",
       "      <th>native.country</th>\n",
       "      <th>income</th>\n",
       "      <th>Set</th>\n",
       "    </tr>\n",
       "  </thead>\n",
       "  <tbody>\n",
       "    <tr>\n",
       "      <th>8</th>\n",
       "      <td>31</td>\n",
       "      <td>Private</td>\n",
       "      <td>45781</td>\n",
       "      <td>Masters</td>\n",
       "      <td>14</td>\n",
       "      <td>Never-married</td>\n",
       "      <td>Prof-specialty</td>\n",
       "      <td>Not-in-family</td>\n",
       "      <td>White</td>\n",
       "      <td>Female</td>\n",
       "      <td>14084</td>\n",
       "      <td>0</td>\n",
       "      <td>50</td>\n",
       "      <td>United-States</td>\n",
       "      <td>&gt;50K</td>\n",
       "      <td>test</td>\n",
       "    </tr>\n",
       "    <tr>\n",
       "      <th>13</th>\n",
       "      <td>32</td>\n",
       "      <td>Private</td>\n",
       "      <td>205019</td>\n",
       "      <td>Assoc-acdm</td>\n",
       "      <td>12</td>\n",
       "      <td>Never-married</td>\n",
       "      <td>Sales</td>\n",
       "      <td>Not-in-family</td>\n",
       "      <td>Black</td>\n",
       "      <td>Male</td>\n",
       "      <td>0</td>\n",
       "      <td>0</td>\n",
       "      <td>50</td>\n",
       "      <td>United-States</td>\n",
       "      <td>&lt;=50K</td>\n",
       "      <td>test</td>\n",
       "    </tr>\n",
       "    <tr>\n",
       "      <th>20</th>\n",
       "      <td>40</td>\n",
       "      <td>Private</td>\n",
       "      <td>193524</td>\n",
       "      <td>Doctorate</td>\n",
       "      <td>16</td>\n",
       "      <td>Married-civ-spouse</td>\n",
       "      <td>Prof-specialty</td>\n",
       "      <td>Husband</td>\n",
       "      <td>White</td>\n",
       "      <td>Male</td>\n",
       "      <td>0</td>\n",
       "      <td>0</td>\n",
       "      <td>60</td>\n",
       "      <td>United-States</td>\n",
       "      <td>&gt;50K</td>\n",
       "      <td>test</td>\n",
       "    </tr>\n",
       "    <tr>\n",
       "      <th>27</th>\n",
       "      <td>54</td>\n",
       "      <td>?</td>\n",
       "      <td>180211</td>\n",
       "      <td>Some-college</td>\n",
       "      <td>10</td>\n",
       "      <td>Married-civ-spouse</td>\n",
       "      <td>?</td>\n",
       "      <td>Husband</td>\n",
       "      <td>Asian-Pac-Islander</td>\n",
       "      <td>Male</td>\n",
       "      <td>0</td>\n",
       "      <td>0</td>\n",
       "      <td>60</td>\n",
       "      <td>South</td>\n",
       "      <td>&gt;50K</td>\n",
       "      <td>test</td>\n",
       "    </tr>\n",
       "    <tr>\n",
       "      <th>38</th>\n",
       "      <td>31</td>\n",
       "      <td>Private</td>\n",
       "      <td>84154</td>\n",
       "      <td>Some-college</td>\n",
       "      <td>10</td>\n",
       "      <td>Married-civ-spouse</td>\n",
       "      <td>Sales</td>\n",
       "      <td>Husband</td>\n",
       "      <td>White</td>\n",
       "      <td>Male</td>\n",
       "      <td>0</td>\n",
       "      <td>0</td>\n",
       "      <td>38</td>\n",
       "      <td>?</td>\n",
       "      <td>&gt;50K</td>\n",
       "      <td>test</td>\n",
       "    </tr>\n",
       "    <tr>\n",
       "      <th>...</th>\n",
       "      <td>...</td>\n",
       "      <td>...</td>\n",
       "      <td>...</td>\n",
       "      <td>...</td>\n",
       "      <td>...</td>\n",
       "      <td>...</td>\n",
       "      <td>...</td>\n",
       "      <td>...</td>\n",
       "      <td>...</td>\n",
       "      <td>...</td>\n",
       "      <td>...</td>\n",
       "      <td>...</td>\n",
       "      <td>...</td>\n",
       "      <td>...</td>\n",
       "      <td>...</td>\n",
       "      <td>...</td>\n",
       "    </tr>\n",
       "    <tr>\n",
       "      <th>32516</th>\n",
       "      <td>30</td>\n",
       "      <td>Private</td>\n",
       "      <td>176175</td>\n",
       "      <td>Assoc-voc</td>\n",
       "      <td>11</td>\n",
       "      <td>Divorced</td>\n",
       "      <td>Adm-clerical</td>\n",
       "      <td>Unmarried</td>\n",
       "      <td>White</td>\n",
       "      <td>Female</td>\n",
       "      <td>0</td>\n",
       "      <td>0</td>\n",
       "      <td>24</td>\n",
       "      <td>United-States</td>\n",
       "      <td>&lt;=50K</td>\n",
       "      <td>test</td>\n",
       "    </tr>\n",
       "    <tr>\n",
       "      <th>32537</th>\n",
       "      <td>30</td>\n",
       "      <td>Private</td>\n",
       "      <td>345898</td>\n",
       "      <td>HS-grad</td>\n",
       "      <td>9</td>\n",
       "      <td>Never-married</td>\n",
       "      <td>Craft-repair</td>\n",
       "      <td>Not-in-family</td>\n",
       "      <td>Black</td>\n",
       "      <td>Male</td>\n",
       "      <td>0</td>\n",
       "      <td>0</td>\n",
       "      <td>46</td>\n",
       "      <td>United-States</td>\n",
       "      <td>&lt;=50K</td>\n",
       "      <td>test</td>\n",
       "    </tr>\n",
       "    <tr>\n",
       "      <th>32546</th>\n",
       "      <td>37</td>\n",
       "      <td>Private</td>\n",
       "      <td>198216</td>\n",
       "      <td>Assoc-acdm</td>\n",
       "      <td>12</td>\n",
       "      <td>Divorced</td>\n",
       "      <td>Tech-support</td>\n",
       "      <td>Not-in-family</td>\n",
       "      <td>White</td>\n",
       "      <td>Female</td>\n",
       "      <td>0</td>\n",
       "      <td>0</td>\n",
       "      <td>40</td>\n",
       "      <td>United-States</td>\n",
       "      <td>&lt;=50K</td>\n",
       "      <td>test</td>\n",
       "    </tr>\n",
       "    <tr>\n",
       "      <th>32552</th>\n",
       "      <td>43</td>\n",
       "      <td>Private</td>\n",
       "      <td>84661</td>\n",
       "      <td>Assoc-voc</td>\n",
       "      <td>11</td>\n",
       "      <td>Married-civ-spouse</td>\n",
       "      <td>Sales</td>\n",
       "      <td>Husband</td>\n",
       "      <td>White</td>\n",
       "      <td>Male</td>\n",
       "      <td>0</td>\n",
       "      <td>0</td>\n",
       "      <td>45</td>\n",
       "      <td>United-States</td>\n",
       "      <td>&lt;=50K</td>\n",
       "      <td>test</td>\n",
       "    </tr>\n",
       "    <tr>\n",
       "      <th>32560</th>\n",
       "      <td>52</td>\n",
       "      <td>Self-emp-inc</td>\n",
       "      <td>287927</td>\n",
       "      <td>HS-grad</td>\n",
       "      <td>9</td>\n",
       "      <td>Married-civ-spouse</td>\n",
       "      <td>Exec-managerial</td>\n",
       "      <td>Wife</td>\n",
       "      <td>White</td>\n",
       "      <td>Female</td>\n",
       "      <td>15024</td>\n",
       "      <td>0</td>\n",
       "      <td>40</td>\n",
       "      <td>United-States</td>\n",
       "      <td>&gt;50K</td>\n",
       "      <td>test</td>\n",
       "    </tr>\n",
       "  </tbody>\n",
       "</table>\n",
       "<p>3268 rows × 16 columns</p>\n",
       "</div>"
      ]
     },
     "metadata": {},
     "execution_count": 77
    }
   ],
   "metadata": {}
  },
  {
   "cell_type": "code",
   "execution_count": 78,
   "source": [
    "train_indices"
   ],
   "outputs": [
    {
     "output_type": "execute_result",
     "data": {
      "text/plain": [
       "Int64Index([    0,     1,     2,     3,     4,     5,     6,     9,    10,\n",
       "               11,\n",
       "            ...\n",
       "            32547, 32549, 32550, 32551, 32553, 32554, 32555, 32557, 32558,\n",
       "            32559],\n",
       "           dtype='int64', length=26072)"
      ]
     },
     "metadata": {},
     "execution_count": 78
    }
   ],
   "metadata": {}
  },
  {
   "cell_type": "code",
   "execution_count": 79,
   "source": [
    "valid_indices"
   ],
   "outputs": [
    {
     "output_type": "execute_result",
     "data": {
      "text/plain": [
       "Int64Index([    7,    17,    19,    66,    68,    98,   111,   114,   116,\n",
       "              118,\n",
       "            ...\n",
       "            32494, 32520, 32523, 32533, 32535, 32536, 32540, 32542, 32548,\n",
       "            32556],\n",
       "           dtype='int64', length=3221)"
      ]
     },
     "metadata": {},
     "execution_count": 79
    }
   ],
   "metadata": {}
  },
  {
   "cell_type": "code",
   "execution_count": 80,
   "source": [
    "test_indices"
   ],
   "outputs": [
    {
     "output_type": "execute_result",
     "data": {
      "text/plain": [
       "Int64Index([    8,    13,    20,    27,    38,    52,    70,    72,    89,\n",
       "              103,\n",
       "            ...\n",
       "            32424, 32434, 32485, 32497, 32513, 32516, 32537, 32546, 32552,\n",
       "            32560],\n",
       "           dtype='int64', length=3268)"
      ]
     },
     "metadata": {},
     "execution_count": 80
    }
   ],
   "metadata": {}
  },
  {
   "cell_type": "markdown",
   "source": [
    "# 簡単な前処理\n",
    "ラベルはカテゴリの特徴をエンコードし、空のセルを埋めます。"
   ],
   "metadata": {}
  },
  {
   "cell_type": "code",
   "execution_count": 81,
   "source": [
    "nunique = train.nunique()\n",
    "types = train.dtypes\n",
    "\n",
    "display(nunique)\n",
    "display(types)"
   ],
   "outputs": [
    {
     "output_type": "display_data",
     "data": {
      "text/plain": [
       "age                  73\n",
       "workclass             9\n",
       "fnlwgt            21648\n",
       "education            16\n",
       "education.num        16\n",
       "marital.status        7\n",
       "occupation           15\n",
       "relationship          6\n",
       "race                  5\n",
       "sex                   2\n",
       "capital.gain        119\n",
       "capital.loss         92\n",
       "hours.per.week       94\n",
       "native.country       42\n",
       "income                2\n",
       "Set                   3\n",
       "dtype: int64"
      ]
     },
     "metadata": {}
    },
    {
     "output_type": "display_data",
     "data": {
      "text/plain": [
       "age                int64\n",
       "workclass         object\n",
       "fnlwgt             int64\n",
       "education         object\n",
       "education.num      int64\n",
       "marital.status    object\n",
       "occupation        object\n",
       "relationship      object\n",
       "race              object\n",
       "sex               object\n",
       "capital.gain       int64\n",
       "capital.loss       int64\n",
       "hours.per.week     int64\n",
       "native.country    object\n",
       "income            object\n",
       "Set               object\n",
       "dtype: object"
      ]
     },
     "metadata": {}
    }
   ],
   "metadata": {}
  },
  {
   "cell_type": "code",
   "execution_count": 82,
   "source": [
    "categorical_columns = []\n",
    "categorical_dims = {}\n",
    "for col in train.columns:\n",
    "    if types[col] == 'object' or nunique[col] < 200:\n",
    "        print(col, train[col].nunique())\n",
    "        l_enc = LabelEncoder()\n",
    "        train[col] = train[col].fillna('VV_likely')\n",
    "        train[col] = l_enc.fit_transform(train[col].values)\n",
    "        categorical_columns.append(col)\n",
    "        categorical_dims[col] = len(l_enc.classes_)\n",
    "    else:\n",
    "        train.fillna(train.loc[train_indices, col].mean(), inplace=True)"
   ],
   "outputs": [
    {
     "output_type": "stream",
     "name": "stdout",
     "text": [
      "age 73\n",
      "workclass 9\n",
      "education 16\n",
      "education.num 16\n",
      "marital.status 7\n",
      "occupation 15\n",
      "relationship 6\n",
      "race 5\n",
      "sex 2\n",
      "capital.gain 119\n",
      "capital.loss 92\n",
      "hours.per.week 94\n",
      "native.country 42\n",
      "income 2\n",
      "Set 3\n"
     ]
    }
   ],
   "metadata": {}
  },
  {
   "cell_type": "code",
   "execution_count": 83,
   "source": [
    "# パイプラインが文字列を受け入れることを確認します\n",
    "train.loc[train[target]==0, target] = \"wealthy\"\n",
    "train.loc[train[target]==1, target] = \"not_wealthy\""
   ],
   "outputs": [],
   "metadata": {}
  },
  {
   "cell_type": "code",
   "execution_count": 84,
   "source": [
    "train"
   ],
   "outputs": [
    {
     "output_type": "execute_result",
     "data": {
      "text/plain": [
       "       age  workclass  fnlwgt  education  education.num  marital.status  \\\n",
       "0       22          7   77516          9             12               4   \n",
       "1       33          6   83311          9             12               2   \n",
       "2       21          4  215646         11              8               0   \n",
       "3       36          4  234721          1              6               2   \n",
       "4       11          4  338409          9             12               2   \n",
       "...    ...        ...     ...        ...            ...             ...   \n",
       "32556   10          4  257302          7             11               2   \n",
       "32557   23          4  154374         11              8               2   \n",
       "32558   41          4  151910         11              8               6   \n",
       "32559    5          4  201490         11              8               4   \n",
       "32560   35          5  287927         11              8               2   \n",
       "\n",
       "       occupation  relationship  race  sex  capital.gain  capital.loss  \\\n",
       "0               1             1     4    1            25             0   \n",
       "1               4             0     4    1             0             0   \n",
       "2               6             1     4    1             0             0   \n",
       "3               6             0     2    1             0             0   \n",
       "4              10             5     2    0             0             0   \n",
       "...           ...           ...   ...  ...           ...           ...   \n",
       "32556          13             5     4    0             0             0   \n",
       "32557           7             0     4    1             0             0   \n",
       "32558           1             4     4    0             0             0   \n",
       "32559           1             3     4    1             0             0   \n",
       "32560           4             5     4    0           108             0   \n",
       "\n",
       "       hours.per.week  native.country       income  Set  \n",
       "0                  39              39      wealthy    1  \n",
       "1                  12              39      wealthy    1  \n",
       "2                  39              39      wealthy    1  \n",
       "3                  39              39      wealthy    1  \n",
       "4                  39               5      wealthy    1  \n",
       "...               ...             ...          ...  ...  \n",
       "32556              37              39      wealthy    2  \n",
       "32557              39              39  not_wealthy    1  \n",
       "32558              39              39      wealthy    1  \n",
       "32559              19              39      wealthy    1  \n",
       "32560              39              39  not_wealthy    0  \n",
       "\n",
       "[32561 rows x 16 columns]"
      ],
      "text/html": [
       "<div>\n",
       "<style scoped>\n",
       "    .dataframe tbody tr th:only-of-type {\n",
       "        vertical-align: middle;\n",
       "    }\n",
       "\n",
       "    .dataframe tbody tr th {\n",
       "        vertical-align: top;\n",
       "    }\n",
       "\n",
       "    .dataframe thead th {\n",
       "        text-align: right;\n",
       "    }\n",
       "</style>\n",
       "<table border=\"1\" class=\"dataframe\">\n",
       "  <thead>\n",
       "    <tr style=\"text-align: right;\">\n",
       "      <th></th>\n",
       "      <th>age</th>\n",
       "      <th>workclass</th>\n",
       "      <th>fnlwgt</th>\n",
       "      <th>education</th>\n",
       "      <th>education.num</th>\n",
       "      <th>marital.status</th>\n",
       "      <th>occupation</th>\n",
       "      <th>relationship</th>\n",
       "      <th>race</th>\n",
       "      <th>sex</th>\n",
       "      <th>capital.gain</th>\n",
       "      <th>capital.loss</th>\n",
       "      <th>hours.per.week</th>\n",
       "      <th>native.country</th>\n",
       "      <th>income</th>\n",
       "      <th>Set</th>\n",
       "    </tr>\n",
       "  </thead>\n",
       "  <tbody>\n",
       "    <tr>\n",
       "      <th>0</th>\n",
       "      <td>22</td>\n",
       "      <td>7</td>\n",
       "      <td>77516</td>\n",
       "      <td>9</td>\n",
       "      <td>12</td>\n",
       "      <td>4</td>\n",
       "      <td>1</td>\n",
       "      <td>1</td>\n",
       "      <td>4</td>\n",
       "      <td>1</td>\n",
       "      <td>25</td>\n",
       "      <td>0</td>\n",
       "      <td>39</td>\n",
       "      <td>39</td>\n",
       "      <td>wealthy</td>\n",
       "      <td>1</td>\n",
       "    </tr>\n",
       "    <tr>\n",
       "      <th>1</th>\n",
       "      <td>33</td>\n",
       "      <td>6</td>\n",
       "      <td>83311</td>\n",
       "      <td>9</td>\n",
       "      <td>12</td>\n",
       "      <td>2</td>\n",
       "      <td>4</td>\n",
       "      <td>0</td>\n",
       "      <td>4</td>\n",
       "      <td>1</td>\n",
       "      <td>0</td>\n",
       "      <td>0</td>\n",
       "      <td>12</td>\n",
       "      <td>39</td>\n",
       "      <td>wealthy</td>\n",
       "      <td>1</td>\n",
       "    </tr>\n",
       "    <tr>\n",
       "      <th>2</th>\n",
       "      <td>21</td>\n",
       "      <td>4</td>\n",
       "      <td>215646</td>\n",
       "      <td>11</td>\n",
       "      <td>8</td>\n",
       "      <td>0</td>\n",
       "      <td>6</td>\n",
       "      <td>1</td>\n",
       "      <td>4</td>\n",
       "      <td>1</td>\n",
       "      <td>0</td>\n",
       "      <td>0</td>\n",
       "      <td>39</td>\n",
       "      <td>39</td>\n",
       "      <td>wealthy</td>\n",
       "      <td>1</td>\n",
       "    </tr>\n",
       "    <tr>\n",
       "      <th>3</th>\n",
       "      <td>36</td>\n",
       "      <td>4</td>\n",
       "      <td>234721</td>\n",
       "      <td>1</td>\n",
       "      <td>6</td>\n",
       "      <td>2</td>\n",
       "      <td>6</td>\n",
       "      <td>0</td>\n",
       "      <td>2</td>\n",
       "      <td>1</td>\n",
       "      <td>0</td>\n",
       "      <td>0</td>\n",
       "      <td>39</td>\n",
       "      <td>39</td>\n",
       "      <td>wealthy</td>\n",
       "      <td>1</td>\n",
       "    </tr>\n",
       "    <tr>\n",
       "      <th>4</th>\n",
       "      <td>11</td>\n",
       "      <td>4</td>\n",
       "      <td>338409</td>\n",
       "      <td>9</td>\n",
       "      <td>12</td>\n",
       "      <td>2</td>\n",
       "      <td>10</td>\n",
       "      <td>5</td>\n",
       "      <td>2</td>\n",
       "      <td>0</td>\n",
       "      <td>0</td>\n",
       "      <td>0</td>\n",
       "      <td>39</td>\n",
       "      <td>5</td>\n",
       "      <td>wealthy</td>\n",
       "      <td>1</td>\n",
       "    </tr>\n",
       "    <tr>\n",
       "      <th>...</th>\n",
       "      <td>...</td>\n",
       "      <td>...</td>\n",
       "      <td>...</td>\n",
       "      <td>...</td>\n",
       "      <td>...</td>\n",
       "      <td>...</td>\n",
       "      <td>...</td>\n",
       "      <td>...</td>\n",
       "      <td>...</td>\n",
       "      <td>...</td>\n",
       "      <td>...</td>\n",
       "      <td>...</td>\n",
       "      <td>...</td>\n",
       "      <td>...</td>\n",
       "      <td>...</td>\n",
       "      <td>...</td>\n",
       "    </tr>\n",
       "    <tr>\n",
       "      <th>32556</th>\n",
       "      <td>10</td>\n",
       "      <td>4</td>\n",
       "      <td>257302</td>\n",
       "      <td>7</td>\n",
       "      <td>11</td>\n",
       "      <td>2</td>\n",
       "      <td>13</td>\n",
       "      <td>5</td>\n",
       "      <td>4</td>\n",
       "      <td>0</td>\n",
       "      <td>0</td>\n",
       "      <td>0</td>\n",
       "      <td>37</td>\n",
       "      <td>39</td>\n",
       "      <td>wealthy</td>\n",
       "      <td>2</td>\n",
       "    </tr>\n",
       "    <tr>\n",
       "      <th>32557</th>\n",
       "      <td>23</td>\n",
       "      <td>4</td>\n",
       "      <td>154374</td>\n",
       "      <td>11</td>\n",
       "      <td>8</td>\n",
       "      <td>2</td>\n",
       "      <td>7</td>\n",
       "      <td>0</td>\n",
       "      <td>4</td>\n",
       "      <td>1</td>\n",
       "      <td>0</td>\n",
       "      <td>0</td>\n",
       "      <td>39</td>\n",
       "      <td>39</td>\n",
       "      <td>not_wealthy</td>\n",
       "      <td>1</td>\n",
       "    </tr>\n",
       "    <tr>\n",
       "      <th>32558</th>\n",
       "      <td>41</td>\n",
       "      <td>4</td>\n",
       "      <td>151910</td>\n",
       "      <td>11</td>\n",
       "      <td>8</td>\n",
       "      <td>6</td>\n",
       "      <td>1</td>\n",
       "      <td>4</td>\n",
       "      <td>4</td>\n",
       "      <td>0</td>\n",
       "      <td>0</td>\n",
       "      <td>0</td>\n",
       "      <td>39</td>\n",
       "      <td>39</td>\n",
       "      <td>wealthy</td>\n",
       "      <td>1</td>\n",
       "    </tr>\n",
       "    <tr>\n",
       "      <th>32559</th>\n",
       "      <td>5</td>\n",
       "      <td>4</td>\n",
       "      <td>201490</td>\n",
       "      <td>11</td>\n",
       "      <td>8</td>\n",
       "      <td>4</td>\n",
       "      <td>1</td>\n",
       "      <td>3</td>\n",
       "      <td>4</td>\n",
       "      <td>1</td>\n",
       "      <td>0</td>\n",
       "      <td>0</td>\n",
       "      <td>19</td>\n",
       "      <td>39</td>\n",
       "      <td>wealthy</td>\n",
       "      <td>1</td>\n",
       "    </tr>\n",
       "    <tr>\n",
       "      <th>32560</th>\n",
       "      <td>35</td>\n",
       "      <td>5</td>\n",
       "      <td>287927</td>\n",
       "      <td>11</td>\n",
       "      <td>8</td>\n",
       "      <td>2</td>\n",
       "      <td>4</td>\n",
       "      <td>5</td>\n",
       "      <td>4</td>\n",
       "      <td>0</td>\n",
       "      <td>108</td>\n",
       "      <td>0</td>\n",
       "      <td>39</td>\n",
       "      <td>39</td>\n",
       "      <td>not_wealthy</td>\n",
       "      <td>0</td>\n",
       "    </tr>\n",
       "  </tbody>\n",
       "</table>\n",
       "<p>32561 rows × 16 columns</p>\n",
       "</div>"
      ]
     },
     "metadata": {},
     "execution_count": 84
    }
   ],
   "metadata": {}
  },
  {
   "cell_type": "markdown",
   "source": [
    "# カテゴリ埋め込みのカテゴリ機能を定義する"
   ],
   "metadata": {}
  },
  {
   "cell_type": "code",
   "execution_count": 85,
   "source": [
    "unused_feat = ['Set']\n",
    "features = [col for col in train.columns if col not in unused_feat + [target]]\n",
    "features"
   ],
   "outputs": [
    {
     "output_type": "execute_result",
     "data": {
      "text/plain": [
       "['age',\n",
       " 'workclass',\n",
       " 'fnlwgt',\n",
       " 'education',\n",
       " 'education.num',\n",
       " 'marital.status',\n",
       " 'occupation',\n",
       " 'relationship',\n",
       " 'race',\n",
       " 'sex',\n",
       " 'capital.gain',\n",
       " 'capital.loss',\n",
       " 'hours.per.week',\n",
       " 'native.country']"
      ]
     },
     "metadata": {},
     "execution_count": 85
    }
   ],
   "metadata": {}
  },
  {
   "cell_type": "code",
   "execution_count": 86,
   "source": [
    "cat_idxs = [i for i, f in enumerate(features) if f in categorical_columns]\n",
    "cat_idxs"
   ],
   "outputs": [
    {
     "output_type": "execute_result",
     "data": {
      "text/plain": [
       "[0, 1, 3, 4, 5, 6, 7, 8, 9, 10, 11, 12, 13]"
      ]
     },
     "metadata": {},
     "execution_count": 86
    }
   ],
   "metadata": {}
  },
  {
   "cell_type": "code",
   "execution_count": 87,
   "source": [
    "cat_dims = [categorical_dims[f] for f in features if f in categorical_columns]\n",
    "cat_dims"
   ],
   "outputs": [
    {
     "output_type": "execute_result",
     "data": {
      "text/plain": [
       "[73, 9, 16, 16, 7, 15, 6, 5, 2, 119, 92, 94, 42]"
      ]
     },
     "metadata": {},
     "execution_count": 87
    }
   ],
   "metadata": {}
  },
  {
   "cell_type": "markdown",
   "source": [
    "# データセット作成"
   ],
   "metadata": {}
  },
  {
   "cell_type": "code",
   "execution_count": 42,
   "source": [
    "X_train = train[features].values[train_indices]\n",
    "y_train = train[target].values[train_indices]\n",
    "\n",
    "print(X_train)\n",
    "print(y_train)"
   ],
   "outputs": [
    {
     "output_type": "stream",
     "name": "stdout",
     "text": [
      "[[    22      7  77516 ...      0     39     39]\n",
      " [    33      6  83311 ...      0     12     39]\n",
      " [    21      4 215646 ...      0     39     39]\n",
      " ...\n",
      " [    23      4 154374 ...      0     39     39]\n",
      " [    41      4 151910 ...      0     39     39]\n",
      " [     5      4 201490 ...      0     19     39]]\n",
      "['wealthy' 'wealthy' 'wealthy' ... 'not_wealthy' 'wealthy' 'wealthy']\n"
     ]
    }
   ],
   "metadata": {}
  },
  {
   "cell_type": "code",
   "execution_count": 43,
   "source": [
    "X_train = train[features].values[train_indices]\n",
    "y_train = train[target].values[train_indices]\n",
    "\n",
    "print(X_train)\n",
    "print(y_train)"
   ],
   "outputs": [
    {
     "output_type": "stream",
     "name": "stdout",
     "text": [
      "[[    22      7  77516 ...      0     39     39]\n",
      " [    33      6  83311 ...      0     12     39]\n",
      " [    21      4 215646 ...      0     39     39]\n",
      " ...\n",
      " [    23      4 154374 ...      0     39     39]\n",
      " [    41      4 151910 ...      0     39     39]\n",
      " [     5      4 201490 ...      0     19     39]]\n",
      "['wealthy' 'wealthy' 'wealthy' ... 'not_wealthy' 'wealthy' 'wealthy']\n"
     ]
    }
   ],
   "metadata": {}
  },
  {
   "cell_type": "code",
   "execution_count": 44,
   "source": [
    "X_valid = train[features].values[valid_indices]\n",
    "y_valid = train[target].values[valid_indices]\n",
    "\n",
    "X_test = train[features].values[test_indices]\n",
    "y_test = train[target].values[test_indices]"
   ],
   "outputs": [],
   "metadata": {}
  },
  {
   "cell_type": "markdown",
   "source": [
    "# ネットワークパラメータ"
   ],
   "metadata": {}
  },
  {
   "cell_type": "code",
   "execution_count": 90,
   "source": [
    "# TabNetPretrainer\n",
    "unsupervised_model = TabNetPretrainer(\n",
    "    cat_idxs=cat_idxs,\n",
    "    cat_dims=cat_dims,\n",
    "    cat_emb_dim=3,\n",
    "    optimizer_fn=torch.optim.Adam,\n",
    "    optimizer_params=dict(lr=2e-2),\n",
    "    mask_type='entmax', # \"sparsemax\",\n",
    "    # n_shared_decoder=1, # nb shared glu for decoding\n",
    "    # n_indep_decoder=1, # nb independent glu for decoding\n",
    ")"
   ],
   "outputs": [
    {
     "output_type": "stream",
     "name": "stdout",
     "text": [
      "Device used : cpu\n"
     ]
    }
   ],
   "metadata": {}
  },
  {
   "cell_type": "markdown",
   "source": [
    "# 自己管理トレーニング"
   ],
   "metadata": {}
  },
  {
   "cell_type": "code",
   "execution_count": 45,
   "source": [
    "max_epochs = 1000 if not os.getenv('CI', False) else 2\n",
    "max_epochs"
   ],
   "outputs": [
    {
     "output_type": "execute_result",
     "data": {
      "text/plain": [
       "1000"
      ]
     },
     "metadata": {},
     "execution_count": 45
    }
   ],
   "metadata": {}
  },
  {
   "cell_type": "code",
   "execution_count": 46,
   "source": [
    "# 環境変数 key が存在すればその値を返し、存在しなければ default を返します。\n",
    "# key、default、および返り値は文字列です。\n",
    "os.getenv('CI', False)"
   ],
   "outputs": [
    {
     "data": {
      "text/plain": [
       "False"
      ]
     },
     "metadata": {},
     "output_type": "display_data"
    }
   ],
   "metadata": {}
  },
  {
   "cell_type": "code",
   "execution_count": 92,
   "source": [
    "unsupervised_model.fit(\n",
    "    X_train=X_train,\n",
    "    eval_set=[X_valid],\n",
    "    max_epochs=max_epochs , patience=5,\n",
    "    batch_size=2048, virtual_batch_size=128,\n",
    "    num_workers=0,\n",
    "    drop_last=False,\n",
    "    pretraining_ratio=0.8,\n",
    "\n",
    ")"
   ],
   "outputs": [
    {
     "output_type": "stream",
     "name": "stdout",
     "text": [
      "epoch 0  | loss: 3.32582 | val_0_unsup_loss: 1.62897 |  0:00:03s\n",
      "epoch 1  | loss: 1.34966 | val_0_unsup_loss: 1.18588 |  0:00:07s\n",
      "epoch 2  | loss: 1.14603 | val_0_unsup_loss: 1.09751 |  0:00:10s\n",
      "epoch 3  | loss: 1.09924 | val_0_unsup_loss: 1.07864 |  0:00:14s\n",
      "epoch 4  | loss: 1.08272 | val_0_unsup_loss: 1.06016 |  0:00:19s\n",
      "epoch 5  | loss: 1.06539 | val_0_unsup_loss: 1.03181 |  0:00:24s\n",
      "epoch 6  | loss: 1.04871 | val_0_unsup_loss: 1.00268 |  0:00:28s\n",
      "epoch 7  | loss: 1.03132 | val_0_unsup_loss: 0.97947 |  0:00:32s\n",
      "epoch 8  | loss: 1.01605 | val_0_unsup_loss: 0.95618 |  0:00:37s\n",
      "epoch 9  | loss: 0.99838 | val_0_unsup_loss: 0.93968 |  0:00:41s\n",
      "epoch 10 | loss: 0.988   | val_0_unsup_loss: 0.92397 |  0:00:46s\n",
      "epoch 11 | loss: 0.97987 | val_0_unsup_loss: 0.91555 |  0:00:51s\n",
      "epoch 12 | loss: 0.96437 | val_0_unsup_loss: 0.90749 |  0:00:56s\n",
      "epoch 13 | loss: 0.96231 | val_0_unsup_loss: 0.90198 |  0:01:02s\n",
      "epoch 14 | loss: 0.95671 | val_0_unsup_loss: 0.90027 |  0:01:07s\n",
      "epoch 15 | loss: 0.95012 | val_0_unsup_loss: 0.89708 |  0:01:12s\n",
      "epoch 16 | loss: 0.94762 | val_0_unsup_loss: 0.88808 |  0:01:16s\n",
      "epoch 17 | loss: 0.94382 | val_0_unsup_loss: 0.87864 |  0:01:21s\n",
      "epoch 18 | loss: 0.93776 | val_0_unsup_loss: 0.86841 |  0:01:26s\n",
      "epoch 19 | loss: 0.93637 | val_0_unsup_loss: 0.85579 |  0:01:30s\n",
      "epoch 20 | loss: 0.9259  | val_0_unsup_loss: 0.84292 |  0:01:35s\n",
      "epoch 21 | loss: 0.92146 | val_0_unsup_loss: 0.81781 |  0:01:41s\n",
      "epoch 22 | loss: 0.91225 | val_0_unsup_loss: 0.78766 |  0:01:45s\n",
      "epoch 23 | loss: 0.90087 | val_0_unsup_loss: 0.7617  |  0:01:50s\n",
      "epoch 24 | loss: 0.89338 | val_0_unsup_loss: 0.7305  |  0:01:55s\n",
      "epoch 25 | loss: 0.88083 | val_0_unsup_loss: 0.70072 |  0:01:59s\n",
      "epoch 26 | loss: 0.87464 | val_0_unsup_loss: 0.68118 |  0:02:04s\n",
      "epoch 27 | loss: 0.86439 | val_0_unsup_loss: 0.6609  |  0:02:10s\n",
      "epoch 28 | loss: 0.85479 | val_0_unsup_loss: 0.65256 |  0:02:14s\n",
      "epoch 29 | loss: 0.84917 | val_0_unsup_loss: 0.63878 |  0:02:19s\n",
      "epoch 30 | loss: 0.84478 | val_0_unsup_loss: 0.64523 |  0:02:23s\n",
      "epoch 31 | loss: 0.8381  | val_0_unsup_loss: 0.62142 |  0:02:29s\n",
      "epoch 32 | loss: 0.83148 | val_0_unsup_loss: 0.62372 |  0:02:33s\n",
      "epoch 33 | loss: 0.82997 | val_0_unsup_loss: 0.61382 |  0:02:38s\n",
      "epoch 34 | loss: 0.82601 | val_0_unsup_loss: 0.60536 |  0:02:42s\n",
      "epoch 35 | loss: 0.82099 | val_0_unsup_loss: 0.60139 |  0:02:48s\n",
      "epoch 36 | loss: 0.81347 | val_0_unsup_loss: 0.5944  |  0:02:54s\n",
      "epoch 37 | loss: 0.80846 | val_0_unsup_loss: 0.58872 |  0:02:59s\n",
      "epoch 38 | loss: 0.80407 | val_0_unsup_loss: 0.57554 |  0:03:04s\n",
      "epoch 39 | loss: 0.79309 | val_0_unsup_loss: 0.56788 |  0:03:09s\n",
      "epoch 40 | loss: 0.79317 | val_0_unsup_loss: 0.5561  |  0:03:14s\n",
      "epoch 41 | loss: 0.78812 | val_0_unsup_loss: 0.54558 |  0:03:20s\n",
      "epoch 42 | loss: 0.77976 | val_0_unsup_loss: 0.53372 |  0:03:24s\n",
      "epoch 43 | loss: 0.77074 | val_0_unsup_loss: 0.52331 |  0:03:29s\n",
      "epoch 44 | loss: 0.76564 | val_0_unsup_loss: 0.50939 |  0:03:35s\n",
      "epoch 45 | loss: 0.75966 | val_0_unsup_loss: 0.50305 |  0:03:39s\n",
      "epoch 46 | loss: 0.75224 | val_0_unsup_loss: 0.48434 |  0:03:44s\n",
      "epoch 47 | loss: 0.75445 | val_0_unsup_loss: 0.4754  |  0:03:48s\n",
      "epoch 48 | loss: 0.74643 | val_0_unsup_loss: 0.46057 |  0:03:53s\n",
      "epoch 49 | loss: 0.73872 | val_0_unsup_loss: 0.4554  |  0:03:57s\n",
      "epoch 50 | loss: 0.73358 | val_0_unsup_loss: 0.44268 |  0:04:02s\n",
      "epoch 51 | loss: 0.73021 | val_0_unsup_loss: 0.43076 |  0:04:06s\n",
      "epoch 52 | loss: 0.72523 | val_0_unsup_loss: 0.40337 |  0:04:10s\n",
      "epoch 53 | loss: 0.71632 | val_0_unsup_loss: 0.39785 |  0:04:15s\n",
      "epoch 54 | loss: 0.70576 | val_0_unsup_loss: 0.36942 |  0:04:19s\n",
      "epoch 55 | loss: 0.68823 | val_0_unsup_loss: 0.35182 |  0:04:24s\n",
      "epoch 56 | loss: 0.68939 | val_0_unsup_loss: 0.33964 |  0:04:28s\n",
      "epoch 57 | loss: 0.68111 | val_0_unsup_loss: 0.35139 |  0:04:33s\n",
      "epoch 58 | loss: 0.67768 | val_0_unsup_loss: 0.34437 |  0:04:37s\n",
      "epoch 59 | loss: 0.67314 | val_0_unsup_loss: 0.34183 |  0:04:41s\n",
      "epoch 60 | loss: 0.67108 | val_0_unsup_loss: 0.34548 |  0:04:46s\n",
      "epoch 61 | loss: 0.6695  | val_0_unsup_loss: 0.31722 |  0:04:50s\n",
      "epoch 62 | loss: 0.66215 | val_0_unsup_loss: 0.30751 |  0:04:54s\n",
      "epoch 63 | loss: 0.66199 | val_0_unsup_loss: 0.30354 |  0:04:59s\n",
      "epoch 64 | loss: 0.65433 | val_0_unsup_loss: 0.30017 |  0:05:03s\n",
      "epoch 65 | loss: 0.65078 | val_0_unsup_loss: 0.29248 |  0:05:07s\n",
      "epoch 66 | loss: 0.6348  | val_0_unsup_loss: 0.28287 |  0:05:12s\n",
      "epoch 67 | loss: 0.6266  | val_0_unsup_loss: 0.27457 |  0:05:16s\n",
      "epoch 68 | loss: 0.62686 | val_0_unsup_loss: 0.27061 |  0:05:20s\n",
      "epoch 69 | loss: 0.63004 | val_0_unsup_loss: 0.27405 |  0:05:25s\n",
      "epoch 70 | loss: 0.62175 | val_0_unsup_loss: 0.26359 |  0:05:29s\n",
      "epoch 71 | loss: 0.62176 | val_0_unsup_loss: 0.2599  |  0:05:33s\n",
      "epoch 72 | loss: 0.61451 | val_0_unsup_loss: 0.24584 |  0:05:38s\n",
      "epoch 73 | loss: 0.61347 | val_0_unsup_loss: 0.24125 |  0:05:42s\n",
      "epoch 74 | loss: 0.61422 | val_0_unsup_loss: 0.22399 |  0:05:46s\n",
      "epoch 75 | loss: 0.60376 | val_0_unsup_loss: 0.23232 |  0:05:50s\n",
      "epoch 76 | loss: 0.61276 | val_0_unsup_loss: 0.23935 |  0:05:55s\n",
      "epoch 77 | loss: 0.60221 | val_0_unsup_loss: 0.23412 |  0:05:59s\n",
      "epoch 78 | loss: 0.60116 | val_0_unsup_loss: 0.21218 |  0:06:03s\n",
      "epoch 79 | loss: 0.59967 | val_0_unsup_loss: 0.22717 |  0:06:07s\n",
      "epoch 80 | loss: 0.59445 | val_0_unsup_loss: 0.22464 |  0:06:11s\n",
      "epoch 81 | loss: 0.59502 | val_0_unsup_loss: 0.19349 |  0:06:16s\n",
      "epoch 82 | loss: 0.59339 | val_0_unsup_loss: 0.19445 |  0:06:20s\n",
      "epoch 83 | loss: 0.59613 | val_0_unsup_loss: 0.21762 |  0:06:24s\n",
      "epoch 84 | loss: 0.59062 | val_0_unsup_loss: 0.21154 |  0:06:28s\n",
      "epoch 85 | loss: 0.58932 | val_0_unsup_loss: 0.20913 |  0:06:32s\n",
      "epoch 86 | loss: 0.58019 | val_0_unsup_loss: 0.21037 |  0:06:36s\n",
      "\n",
      "Early stopping occurred at epoch 86 with best_epoch = 81 and best_val_0_unsup_loss = 0.19349\n",
      "Best weights from best epoch are automatically used!\n"
     ]
    }
   ],
   "metadata": {}
  },
  {
   "cell_type": "code",
   "execution_count": 94,
   "source": [
    "# データセットから再構築する\n",
    "reconstructed_X, embedded_X = unsupervised_model.predict(X_valid)\n",
    "assert(reconstructed_X.shape==embedded_X.shape)"
   ],
   "outputs": [],
   "metadata": {}
  },
  {
   "cell_type": "code",
   "execution_count": 95,
   "source": [
    "unsupervised_explain_matrix, unsupervised_masks = unsupervised_model.explain(X_valid)"
   ],
   "outputs": [],
   "metadata": {}
  },
  {
   "cell_type": "code",
   "execution_count": 96,
   "source": [
    "ig, axs = plt.subplots(1, 3, figsize=(20,20))\n",
    "\n",
    "for i in range(3):\n",
    "    axs[i].imshow(unsupervised_masks[i][:50])\n",
    "    axs[i].set_title(f\"mask {i}\")"
   ],
   "outputs": [
    {
     "output_type": "display_data",
     "data": {
      "text/plain": [
       "<Figure size 1440x1440 with 3 Axes>"
      ],
      "image/png": "[encoded data removed]"
     },
     "metadata": {
      "needs_background": "light"
     }
    }
   ],
   "metadata": {}
  },
  {
   "cell_type": "markdown",
   "source": [
    "# 他のTabNetモデルと同じ方法で保存およびロード"
   ],
   "metadata": {}
  },
  {
   "cell_type": "code",
   "execution_count": 97,
   "source": [
    "unsupervised_model.save_model('./test_pretrain')\n",
    "loaded_pretrain = TabNetPretrainer()\n",
    "loaded_pretrain.load_model('./test_pretrain.zip')"
   ],
   "outputs": [
    {
     "output_type": "stream",
     "name": "stdout",
     "text": [
      "Successfully saved model at ./test_pretrain.zip\n",
      "Device used : cpu\n",
      "Device used : cpu\n"
     ]
    }
   ],
   "metadata": {}
  },
  {
   "cell_type": "markdown",
   "source": [
    "# トレーニング"
   ],
   "metadata": {}
  },
  {
   "cell_type": "code",
   "execution_count": 98,
   "source": [
    "clf = TabNetClassifier(optimizer_fn=torch.optim.Adam,\n",
    "                       optimizer_params=dict(lr=2e-2),\n",
    "                       scheduler_params={'step_size': 50, # 学習率スケジューラの使用方法\n",
    "                                         'gamma': 0.9},\n",
    "                       scheduler_fn=torch.optim.lr_scheduler.StepLR,\n",
    "                       mask_type='sparsemax' # 事前トレーニングモデルを使用している場合、これは上書きされます\n",
    "                      )"
   ],
   "outputs": [
    {
     "output_type": "stream",
     "name": "stdout",
     "text": [
      "Device used : cpu\n"
     ]
    }
   ],
   "metadata": {}
  },
  {
   "cell_type": "code",
   "execution_count": 99,
   "source": [
    "clf.fit(\n",
    "    X_train=X_train,\n",
    "    y_train=y_train,\n",
    "    eval_set=[(X_train, y_train), (X_valid, y_valid)],\n",
    "    eval_name=['train', 'valid'],\n",
    "    eval_metric=['auc'],\n",
    "    max_epochs=max_epochs,\n",
    "    patience=20,\n",
    "    batch_size=1024,\n",
    "    virtual_batch_size=128,\n",
    "    num_workers=0,\n",
    "    weights=1, \n",
    "    drop_last=False,\n",
    "    from_unsupervised=loaded_pretrain\n",
    ")"
   ],
   "outputs": [
    {
     "output_type": "stream",
     "name": "stderr",
     "text": [
      "/Users/yamazakiyuuta/opt/anaconda3/lib/python3.8/site-packages/pytorch_tabnet/abstract_model.py:97: UserWarning: Pretraining: cat_dims changed from [] to [73, 9, 16, 16, 7, 15, 6, 5, 2, 119, 92, 94, 42]\n",
      "  warnings.warn(wrn_msg)\n",
      "/Users/yamazakiyuuta/opt/anaconda3/lib/python3.8/site-packages/pytorch_tabnet/abstract_model.py:97: UserWarning: Pretraining: cat_emb_dim changed from 1 to 3\n",
      "  warnings.warn(wrn_msg)\n",
      "/Users/yamazakiyuuta/opt/anaconda3/lib/python3.8/site-packages/pytorch_tabnet/abstract_model.py:97: UserWarning: Pretraining: cat_idxs changed from [] to [0, 1, 3, 4, 5, 6, 7, 8, 9, 10, 11, 12, 13]\n",
      "  warnings.warn(wrn_msg)\n",
      "/Users/yamazakiyuuta/opt/anaconda3/lib/python3.8/site-packages/pytorch_tabnet/abstract_model.py:97: UserWarning: Pretraining: mask_type changed from sparsemax to entmax\n",
      "  warnings.warn(wrn_msg)\n"
     ]
    },
    {
     "output_type": "stream",
     "name": "stdout",
     "text": [
      "Loading weights from unsupervised pretraining\n",
      "epoch 0  | loss: 0.57746 | train_auc: 0.83468 | valid_auc: 0.83198 |  0:00:03s\n",
      "epoch 1  | loss: 0.42321 | train_auc: 0.89423 | valid_auc: 0.88733 |  0:00:06s\n",
      "epoch 2  | loss: 0.3904  | train_auc: 0.90955 | valid_auc: 0.90462 |  0:00:10s\n",
      "epoch 3  | loss: 0.37175 | train_auc: 0.91967 | valid_auc: 0.91598 |  0:00:13s\n",
      "epoch 4  | loss: 0.3482  | train_auc: 0.92381 | valid_auc: 0.92242 |  0:00:18s\n",
      "epoch 5  | loss: 0.34051 | train_auc: 0.92629 | valid_auc: 0.92369 |  0:00:22s\n",
      "epoch 6  | loss: 0.34169 | train_auc: 0.92554 | valid_auc: 0.92215 |  0:00:26s\n",
      "epoch 7  | loss: 0.33122 | train_auc: 0.91207 | valid_auc: 0.90708 |  0:00:31s\n",
      "epoch 8  | loss: 0.32269 | train_auc: 0.91094 | valid_auc: 0.90684 |  0:00:35s\n",
      "epoch 9  | loss: 0.32022 | train_auc: 0.92694 | valid_auc: 0.92172 |  0:00:40s\n",
      "epoch 10 | loss: 0.3144  | train_auc: 0.92917 | valid_auc: 0.92607 |  0:00:44s\n",
      "epoch 11 | loss: 0.32419 | train_auc: 0.92459 | valid_auc: 0.91716 |  0:00:49s\n",
      "epoch 12 | loss: 0.32086 | train_auc: 0.92842 | valid_auc: 0.92248 |  0:00:54s\n",
      "epoch 13 | loss: 0.31676 | train_auc: 0.92948 | valid_auc: 0.92214 |  0:00:59s\n",
      "epoch 14 | loss: 0.31483 | train_auc: 0.93556 | valid_auc: 0.92973 |  0:01:04s\n",
      "epoch 15 | loss: 0.32745 | train_auc: 0.93551 | valid_auc: 0.92766 |  0:01:09s\n",
      "epoch 16 | loss: 0.3158  | train_auc: 0.93753 | valid_auc: 0.93066 |  0:01:14s\n",
      "epoch 17 | loss: 0.31483 | train_auc: 0.93774 | valid_auc: 0.9301  |  0:01:20s\n",
      "epoch 18 | loss: 0.31407 | train_auc: 0.93816 | valid_auc: 0.92856 |  0:01:28s\n",
      "epoch 19 | loss: 0.30743 | train_auc: 0.93859 | valid_auc: 0.92874 |  0:01:34s\n",
      "epoch 20 | loss: 0.31558 | train_auc: 0.93851 | valid_auc: 0.93079 |  0:01:40s\n",
      "epoch 21 | loss: 0.31114 | train_auc: 0.93921 | valid_auc: 0.92863 |  0:01:46s\n",
      "epoch 22 | loss: 0.3128  | train_auc: 0.93907 | valid_auc: 0.92868 |  0:01:51s\n",
      "epoch 23 | loss: 0.3058  | train_auc: 0.93965 | valid_auc: 0.92892 |  0:01:58s\n",
      "epoch 24 | loss: 0.30409 | train_auc: 0.94062 | valid_auc: 0.92862 |  0:02:03s\n",
      "epoch 25 | loss: 0.31141 | train_auc: 0.93944 | valid_auc: 0.92583 |  0:02:11s\n",
      "epoch 26 | loss: 0.31503 | train_auc: 0.93905 | valid_auc: 0.92727 |  0:02:18s\n",
      "epoch 27 | loss: 0.31507 | train_auc: 0.94059 | valid_auc: 0.92879 |  0:02:24s\n",
      "epoch 28 | loss: 0.31011 | train_auc: 0.94084 | valid_auc: 0.9282  |  0:02:30s\n",
      "epoch 29 | loss: 0.31029 | train_auc: 0.94104 | valid_auc: 0.92764 |  0:02:35s\n",
      "epoch 30 | loss: 0.29916 | train_auc: 0.94141 | valid_auc: 0.9272  |  0:02:41s\n",
      "epoch 31 | loss: 0.30719 | train_auc: 0.94179 | valid_auc: 0.92771 |  0:02:47s\n",
      "epoch 32 | loss: 0.30061 | train_auc: 0.94276 | valid_auc: 0.92806 |  0:02:53s\n",
      "epoch 33 | loss: 0.30526 | train_auc: 0.94346 | valid_auc: 0.92629 |  0:02:59s\n",
      "epoch 34 | loss: 0.29781 | train_auc: 0.94371 | valid_auc: 0.9275  |  0:03:05s\n",
      "epoch 35 | loss: 0.30009 | train_auc: 0.94368 | valid_auc: 0.92766 |  0:03:11s\n",
      "epoch 36 | loss: 0.30104 | train_auc: 0.94314 | valid_auc: 0.92709 |  0:03:17s\n",
      "epoch 37 | loss: 0.29971 | train_auc: 0.94296 | valid_auc: 0.92795 |  0:03:25s\n",
      "epoch 38 | loss: 0.3017  | train_auc: 0.94346 | valid_auc: 0.92531 |  0:03:31s\n",
      "epoch 39 | loss: 0.30318 | train_auc: 0.94418 | valid_auc: 0.92406 |  0:03:38s\n",
      "epoch 40 | loss: 0.30235 | train_auc: 0.94279 | valid_auc: 0.92639 |  0:03:49s\n",
      "\n",
      "Early stopping occurred at epoch 40 with best_epoch = 20 and best_valid_auc = 0.93079\n",
      "Best weights from best epoch are automatically used!\n"
     ]
    }
   ],
   "metadata": {}
  },
  {
   "cell_type": "code",
   "execution_count": 100,
   "source": [
    "# plot losses\n",
    "plt.plot(clf.history['loss'])"
   ],
   "outputs": [
    {
     "output_type": "execute_result",
     "data": {
      "text/plain": [
       "[<matplotlib.lines.Line2D at 0x7fb372f16400>]"
      ]
     },
     "metadata": {},
     "execution_count": 100
    },
    {
     "output_type": "display_data",
     "data": {
      "text/plain": [
       "<Figure size 432x288 with 1 Axes>"
      ],
      "image/png": "[encoded data removed]"
     },
     "metadata": {
      "needs_background": "light"
     }
    }
   ],
   "metadata": {}
  },
  {
   "cell_type": "code",
   "execution_count": 101,
   "source": [
    "# plot auc\n",
    "plt.plot(clf.history['train_auc'])\n",
    "plt.plot(clf.history['valid_auc'])"
   ],
   "outputs": [
    {
     "output_type": "execute_result",
     "data": {
      "text/plain": [
       "[<matplotlib.lines.Line2D at 0x7fb37424ce80>]"
      ]
     },
     "metadata": {},
     "execution_count": 101
    },
    {
     "output_type": "display_data",
     "data": {
      "text/plain": [
       "<Figure size 432x288 with 1 Axes>"
      ],
      "image/png": "[encoded data removed]"
     },
     "metadata": {
      "needs_background": "light"
     }
    }
   ],
   "metadata": {}
  },
  {
   "cell_type": "code",
   "execution_count": 102,
   "source": [
    "# plot learning rates\n",
    "plt.plot(clf.history['lr'])"
   ],
   "outputs": [
    {
     "output_type": "execute_result",
     "data": {
      "text/plain": [
       "[<matplotlib.lines.Line2D at 0x7fb3740c9400>]"
      ]
     },
     "metadata": {},
     "execution_count": 102
    },
    {
     "output_type": "display_data",
     "data": {
      "text/plain": [
       "<Figure size 432x288 with 1 Axes>"
      ],
      "image/png": "[encoded data removed]"
     },
     "metadata": {
      "needs_background": "light"
     }
    }
   ],
   "metadata": {}
  },
  {
   "cell_type": "markdown",
   "source": [
    "# 予測"
   ],
   "metadata": {}
  },
  {
   "cell_type": "code",
   "execution_count": 103,
   "source": [
    "preds = clf.predict_proba(X_test)\n",
    "preds"
   ],
   "outputs": [
    {
     "output_type": "execute_result",
     "data": {
      "text/plain": [
       "array([[9.9989748e-01, 1.0254158e-04],\n",
       "       [6.5295368e-01, 3.4704632e-01],\n",
       "       [9.6711642e-01, 3.2883611e-02],\n",
       "       ...,\n",
       "       [2.8739271e-01, 7.1260732e-01],\n",
       "       [8.4553581e-01, 1.5446424e-01],\n",
       "       [9.9999070e-01, 9.2782202e-06]], dtype=float32)"
      ]
     },
     "metadata": {},
     "execution_count": 103
    }
   ],
   "metadata": {}
  },
  {
   "cell_type": "code",
   "execution_count": 104,
   "source": [
    "test_auc = roc_auc_score(y_score=preds[:, 1], y_true=y_test)\n",
    "test_auc"
   ],
   "outputs": [
    {
     "output_type": "execute_result",
     "data": {
      "text/plain": [
       "0.9251226832878913"
      ]
     },
     "metadata": {},
     "execution_count": 104
    }
   ],
   "metadata": {}
  },
  {
   "cell_type": "code",
   "execution_count": 105,
   "source": [
    "preds_valid = clf.predict_proba(X_valid)\n",
    "preds_valid"
   ],
   "outputs": [
    {
     "output_type": "execute_result",
     "data": {
      "text/plain": [
       "array([[0.82534885, 0.17465115],\n",
       "       [0.02928076, 0.9707192 ],\n",
       "       [0.4492806 , 0.55071944],\n",
       "       ...,\n",
       "       [0.01125795, 0.98874205],\n",
       "       [0.02852406, 0.9714759 ],\n",
       "       [0.77257085, 0.22742914]], dtype=float32)"
      ]
     },
     "metadata": {},
     "execution_count": 105
    }
   ],
   "metadata": {}
  },
  {
   "cell_type": "code",
   "execution_count": 106,
   "source": [
    "valid_auc = roc_auc_score(y_score=preds_valid[:, 1], y_true=y_valid)\n",
    "valid_auc"
   ],
   "outputs": [
    {
     "output_type": "execute_result",
     "data": {
      "text/plain": [
       "0.9307904940257958"
      ]
     },
     "metadata": {},
     "execution_count": 106
    }
   ],
   "metadata": {}
  },
  {
   "cell_type": "code",
   "execution_count": 107,
   "source": [
    "print(f'BEST VALID SCORE FOR {dataset_name}:{clf.best_cost}')\n",
    "print(f'FINAL TEST SCORE FOR {dataset_name}:{test_auc}')"
   ],
   "outputs": [
    {
     "output_type": "stream",
     "name": "stdout",
     "text": [
      "BEST VALID SCORE FOR census-income:0.9307904940257958\n",
      "FINAL TEST SCORE FOR census-income:0.9251226832878913\n"
     ]
    }
   ],
   "metadata": {}
  },
  {
   "cell_type": "code",
   "execution_count": 108,
   "source": [
    "# 最適な重みが使用されていることを確認します\n",
    "assert np.isclose(valid_auc, np.max(clf.history['valid_auc']), atol=1e-6)"
   ],
   "outputs": [],
   "metadata": {}
  },
  {
   "cell_type": "code",
   "execution_count": 109,
   "source": [
    "np.isclose(valid_auc, np.max(clf.history['valid_auc']), atol=1e-6)"
   ],
   "outputs": [
    {
     "output_type": "execute_result",
     "data": {
      "text/plain": [
       "True"
      ]
     },
     "metadata": {},
     "execution_count": 109
    }
   ],
   "metadata": {}
  },
  {
   "cell_type": "code",
   "execution_count": 110,
   "source": [
    "print(valid_auc)\n",
    "print(clf.history['valid_auc'])\n",
    "print(np.max(clf.history['valid_auc']))"
   ],
   "outputs": [
    {
     "output_type": "stream",
     "name": "stdout",
     "text": [
      "0.9307904940257958\n",
      "[0.8319834885131749, 0.8873307308838657, 0.9046224250257169, 0.9159847545696727, 0.9224176403872023, 0.9236931923087066, 0.9221501859520482, 0.9070843773903411, 0.9068374963732757, 0.9217242106929021, 0.926066520718487, 0.9171632421596815, 0.9224761955002242, 0.9221396354812335, 0.9297328093266162, 0.9276628069527603, 0.930663360852478, 0.9300968005697253, 0.9285574868778519, 0.9287389549758658, 0.9307904940257958, 0.928633450267718, 0.9286759159127477, 0.9289183129797166, 0.9286192071321182, 0.9258317727428585, 0.9272703294384511, 0.9287885421886951, 0.9282003534407721, 0.9276414422493603, 0.9271954210956664, 0.9277081739772637, 0.9280629335584101, 0.9262893994144488, 0.9275000659404427, 0.9276588505262047, 0.9270888613404373, 0.9279503072824625, 0.9253063592962835, 0.924055073457653, 0.9263891013636483]\n",
      "0.9307904940257958\n"
     ]
    }
   ],
   "metadata": {}
  },
  {
   "cell_type": "code",
   "execution_count": 111,
   "source": [
    "clf.predict(X_test)"
   ],
   "outputs": [
    {
     "output_type": "execute_result",
     "data": {
      "text/plain": [
       "array(['not_wealthy', 'not_wealthy', 'not_wealthy', ..., 'wealthy',\n",
       "       'not_wealthy', 'not_wealthy'], dtype='<U11')"
      ]
     },
     "metadata": {},
     "execution_count": 111
    }
   ],
   "metadata": {}
  },
  {
   "cell_type": "markdown",
   "source": [
    "# モデルの保存と読み込み"
   ],
   "metadata": {}
  },
  {
   "cell_type": "code",
   "execution_count": 112,
   "source": [
    "# tabnet modelの保存\n",
    "saving_path_name = './tabnet_model_test_1'\n",
    "saved_filepath = clf.save_model(saving_path_name)"
   ],
   "outputs": [
    {
     "output_type": "stream",
     "name": "stdout",
     "text": [
      "Successfully saved model at ./tabnet_model_test_1.zip\n"
     ]
    }
   ],
   "metadata": {}
  },
  {
   "cell_type": "code",
   "execution_count": 113,
   "source": [
    "# 基本的なパラメータと負荷状態の指示の重みを使用して新しいモデルを定義します\n",
    "loaded_clf = TabNetClassifier()\n",
    "loaded_clf.load_model(saved_filepath)"
   ],
   "outputs": [
    {
     "output_type": "stream",
     "name": "stdout",
     "text": [
      "Device used : cpu\n",
      "Device used : cpu\n"
     ]
    }
   ],
   "metadata": {}
  },
  {
   "cell_type": "code",
   "execution_count": 114,
   "source": [
    "loaded_preds = loaded_clf.predict_proba(X_test)\n",
    "loaded_test_auc = roc_auc_score(y_score=loaded_preds[:, 1], y_true=y_test)\n",
    "print(f'FINAL TEST SCORE FOR {dataset_name}:{loaded_test_auc}')"
   ],
   "outputs": [
    {
     "output_type": "stream",
     "name": "stdout",
     "text": [
      "FINAL TEST SCORE FOR census-income:0.9251226832878913\n"
     ]
    }
   ],
   "metadata": {}
  },
  {
   "cell_type": "code",
   "execution_count": 115,
   "source": [
    "assert test_auc == loaded_test_auc"
   ],
   "outputs": [],
   "metadata": {}
  },
  {
   "cell_type": "code",
   "execution_count": 116,
   "source": [
    "loaded_clf.predict(X_test)"
   ],
   "outputs": [
    {
     "output_type": "execute_result",
     "data": {
      "text/plain": [
       "array(['not_wealthy', 'not_wealthy', 'not_wealthy', ..., 'wealthy',\n",
       "       'not_wealthy', 'not_wealthy'], dtype='<U11')"
      ]
     },
     "metadata": {},
     "execution_count": 116
    }
   ],
   "metadata": {}
  },
  {
   "cell_type": "markdown",
   "source": [
    "# グローバルな説明可能性：1に合計する重要性の偉業"
   ],
   "metadata": {}
  },
  {
   "cell_type": "code",
   "execution_count": 117,
   "source": [
    "clf.feature_importances_"
   ],
   "outputs": [
    {
     "output_type": "execute_result",
     "data": {
      "text/plain": [
       "array([7.57926772e-02, 1.06945374e-01, 1.09654104e-06, 6.51722960e-02,\n",
       "       8.62927205e-02, 8.19308627e-02, 8.11026604e-02, 4.07224395e-02,\n",
       "       1.36756271e-02, 3.49829507e-02, 2.28123711e-01, 5.80787494e-02,\n",
       "       8.28205659e-02, 4.43582695e-02])"
      ]
     },
     "metadata": {},
     "execution_count": 117
    }
   ],
   "metadata": {}
  },
  {
   "cell_type": "markdown",
   "source": [
    "# 地域の説明性とマスク"
   ],
   "metadata": {}
  },
  {
   "cell_type": "code",
   "execution_count": 118,
   "source": [
    "explain_matrix, masks = clf.explain(X_test)"
   ],
   "outputs": [],
   "metadata": {}
  },
  {
   "cell_type": "code",
   "execution_count": 119,
   "source": [
    "fig, axs = plt.subplots(1, 3, figsize=(20,20))\n",
    "\n",
    "for i in range(3):\n",
    "    axs[i].imshow(masks[i][:50])\n",
    "    axs[i].set_title(f\"mask {i}\")"
   ],
   "outputs": [
    {
     "output_type": "display_data",
     "data": {
      "text/plain": [
       "<Figure size 1440x1440 with 3 Axes>"
      ],
      "image/png": "[encoded data removed]"
     },
     "metadata": {
      "needs_background": "light"
     }
    }
   ],
   "metadata": {}
  },
  {
   "cell_type": "code",
   "execution_count": null,
   "source": [],
   "outputs": [],
   "metadata": {}
  }
 ],
 "metadata": {
  "orig_nbformat": 4,
  "language_info": {
   "name": "python",
   "version": "3.8.5",
   "mimetype": "text/x-python",
   "codemirror_mode": {
    "name": "ipython",
    "version": 3
   },
   "pygments_lexer": "ipython3",
   "nbconvert_exporter": "python",
   "file_extension": ".py"
  },
  "kernelspec": {
   "name": "python3",
   "display_name": "Python 3.8.5 64-bit ('base': conda)"
  },
  "interpreter": {
   "hash": "d5e3c9d57004535c270780549adf8d91e7371700e9fd9228a6e9fc68d8f56418"
  }
 },
 "nbformat": 4,
 "nbformat_minor": 2
}